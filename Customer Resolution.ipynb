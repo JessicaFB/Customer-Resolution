{
 "cells": [
  {
   "cell_type": "markdown",
   "metadata": {
    "toc": true
   },
   "source": [
    "<h1>Table of Contents<span class=\"tocSkip\"></span></h1>\n",
    "<div class=\"toc\"><ul class=\"toc-item\"><li><span><a href=\"#Grouping-Similar-Problems\" data-toc-modified-id=\"Grouping-Similar-Problems-1\"><span class=\"toc-item-num\">1&nbsp;&nbsp;</span>Grouping Similar Problems</a></span><ul class=\"toc-item\"><li><span><a href=\"#Loading-the-Dataset\" data-toc-modified-id=\"Loading-the-Dataset-1.1\"><span class=\"toc-item-num\">1.1&nbsp;&nbsp;</span>Loading the Dataset</a></span></li><li><span><a href=\"#Group-Data-into-similar-clusters\" data-toc-modified-id=\"Group-Data-into-similar-clusters-1.2\"><span class=\"toc-item-num\">1.2&nbsp;&nbsp;</span>Group Data into similar clusters</a></span></li><li><span><a href=\"#Analyze-Groups\" data-toc-modified-id=\"Analyze-Groups-1.3\"><span class=\"toc-item-num\">1.3&nbsp;&nbsp;</span>Analyze Groups</a></span><ul class=\"toc-item\"><li><span><a href=\"#Count\" data-toc-modified-id=\"Count-1.3.1\"><span class=\"toc-item-num\">1.3.1&nbsp;&nbsp;</span>Count</a></span></li><li><span><a href=\"#Average-Resolution-Time\" data-toc-modified-id=\"Average-Resolution-Time-1.3.2\"><span class=\"toc-item-num\">1.3.2&nbsp;&nbsp;</span>Average Resolution Time</a></span></li></ul></li></ul></li></ul></div>"
   ]
  },
  {
   "cell_type": "markdown",
   "metadata": {},
   "source": [
    " #  Grouping Similar Problems"
   ]
  },
  {
   "cell_type": "markdown",
   "metadata": {},
   "source": [
    "In this example, we are going to group customer support problems into problem groups based on their attributes. Then we will analyze the groups to see similarities and differences."
   ]
  },
  {
   "cell_type": "markdown",
   "metadata": {},
   "source": [
    "## Loading the Dataset"
   ]
  },
  {
   "cell_type": "code",
   "execution_count": 1,
   "metadata": {},
   "outputs": [
    {
     "name": "stdout",
     "output_type": "stream",
     "text": [
      "<class 'pandas.core.frame.DataFrame'>\n",
      "RangeIndex: 20 entries, 0 to 19\n",
      "Data columns (total 6 columns):\n",
      "PROBLEM_TYPE            20 non-null object\n",
      "COUNT                   20 non-null int64\n",
      "AVG_CALLS_TO_RESOLVE    20 non-null float64\n",
      "AVG_RESOLUTION_TIME     20 non-null int64\n",
      "REOCCUR_RATE            20 non-null float64\n",
      "REPLACEMENT_RATE        20 non-null float64\n",
      "dtypes: float64(3), int64(2), object(1)\n",
      "memory usage: 1.1+ KB\n"
     ]
    }
   ],
   "source": [
    "# Import relevant libraries & packages\n",
    "import pandas as pd\n",
    "import numpy as np\n",
    "import matplotlib.pylab as plt\n",
    "%matplotlib inline\n",
    "\n",
    "from sklearn.model_selection  import train_test_split\n",
    "from sklearn.cluster import KMeans\n",
    "import sklearn.metrics\n",
    "\n",
    "# Import data\n",
    "raw_data = pd.read_csv(\"issues.csv\")\n",
    "# Preview info\n",
    "raw_data.info()"
   ]
  },
  {
   "cell_type": "markdown",
   "metadata": {},
   "source": [
    "The dataset contains one record for each unique problem type. It has metrics for each type like count, average calls to resolve, average resolution time etc."
   ]
  },
  {
   "cell_type": "code",
   "execution_count": 2,
   "metadata": {},
   "outputs": [
    {
     "data": {
      "text/html": [
       "<div>\n",
       "<style scoped>\n",
       "    .dataframe tbody tr th:only-of-type {\n",
       "        vertical-align: middle;\n",
       "    }\n",
       "\n",
       "    .dataframe tbody tr th {\n",
       "        vertical-align: top;\n",
       "    }\n",
       "\n",
       "    .dataframe thead th {\n",
       "        text-align: right;\n",
       "    }\n",
       "</style>\n",
       "<table border=\"1\" class=\"dataframe\">\n",
       "  <thead>\n",
       "    <tr style=\"text-align: right;\">\n",
       "      <th></th>\n",
       "      <th>PROBLEM_TYPE</th>\n",
       "      <th>COUNT</th>\n",
       "      <th>AVG_CALLS_TO_RESOLVE</th>\n",
       "      <th>AVG_RESOLUTION_TIME</th>\n",
       "      <th>REOCCUR_RATE</th>\n",
       "      <th>REPLACEMENT_RATE</th>\n",
       "    </tr>\n",
       "  </thead>\n",
       "  <tbody>\n",
       "    <tr>\n",
       "      <td>0</td>\n",
       "      <td>Admin Password Lost</td>\n",
       "      <td>45</td>\n",
       "      <td>2.3</td>\n",
       "      <td>54</td>\n",
       "      <td>0.15</td>\n",
       "      <td>0.00</td>\n",
       "    </tr>\n",
       "    <tr>\n",
       "      <td>1</td>\n",
       "      <td>Windows Reboots automatically</td>\n",
       "      <td>47</td>\n",
       "      <td>3.1</td>\n",
       "      <td>132</td>\n",
       "      <td>0.30</td>\n",
       "      <td>0.03</td>\n",
       "    </tr>\n",
       "    <tr>\n",
       "      <td>2</td>\n",
       "      <td>System not coming up after reboot</td>\n",
       "      <td>12</td>\n",
       "      <td>4.0</td>\n",
       "      <td>154</td>\n",
       "      <td>0.02</td>\n",
       "      <td>0.05</td>\n",
       "    </tr>\n",
       "    <tr>\n",
       "      <td>3</td>\n",
       "      <td>Slow system</td>\n",
       "      <td>165</td>\n",
       "      <td>1.2</td>\n",
       "      <td>32</td>\n",
       "      <td>0.03</td>\n",
       "      <td>0.00</td>\n",
       "    </tr>\n",
       "    <tr>\n",
       "      <td>4</td>\n",
       "      <td>Internet Connectivity loss</td>\n",
       "      <td>321</td>\n",
       "      <td>1.0</td>\n",
       "      <td>5</td>\n",
       "      <td>0.21</td>\n",
       "      <td>0.00</td>\n",
       "    </tr>\n",
       "  </tbody>\n",
       "</table>\n",
       "</div>"
      ],
      "text/plain": [
       "                        PROBLEM_TYPE  COUNT  AVG_CALLS_TO_RESOLVE  \\\n",
       "0                Admin Password Lost     45                   2.3   \n",
       "1      Windows Reboots automatically     47                   3.1   \n",
       "2  System not coming up after reboot     12                   4.0   \n",
       "3                        Slow system    165                   1.2   \n",
       "4         Internet Connectivity loss    321                   1.0   \n",
       "\n",
       "   AVG_RESOLUTION_TIME  REOCCUR_RATE  REPLACEMENT_RATE  \n",
       "0                   54          0.15              0.00  \n",
       "1                  132          0.30              0.03  \n",
       "2                  154          0.02              0.05  \n",
       "3                   32          0.03              0.00  \n",
       "4                    5          0.21              0.00  "
      ]
     },
     "execution_count": 2,
     "metadata": {},
     "output_type": "execute_result"
    }
   ],
   "source": [
    "# Preview data\n",
    "raw_data.head()"
   ]
  },
  {
   "cell_type": "markdown",
   "metadata": {},
   "source": [
    "## Group Data into similar clusters\n",
    "\n",
    "Now, we will use K-Means clustering to group data based on their attribute. First, we need to determine the optimal number of groups. For that we conduct the knee test to see where the knee happens."
   ]
  },
  {
   "cell_type": "code",
   "execution_count": 3,
   "metadata": {
    "scrolled": true
   },
   "outputs": [
    {
     "data": {
      "text/plain": [
       "Text(0.5, 1.0, 'Selecting k with the Elbow Method')"
      ]
     },
     "execution_count": 3,
     "metadata": {},
     "output_type": "execute_result"
    },
    {
     "data": {
      "image/png": "[encoded data removed]",
      "text/plain": [
       "<Figure size 432x288 with 1 Axes>"
      ]
     },
     "metadata": {
      "needs_background": "light"
     },
     "output_type": "display_data"
    }
   ],
   "source": [
    "clust_data = raw_data.drop(\"PROBLEM_TYPE\", axis = 1)\n",
    "\n",
    "# Find optimal # of clusters\n",
    "from scipy.spatial.distance import cdist\n",
    "clusters = range(1,10)\n",
    "meanDistortions = []\n",
    "\n",
    "for k in clusters:\n",
    "    model = KMeans(n_clusters = k)\n",
    "    model.fit(clust_data)\n",
    "    prediction = model.predict(clust_data)\n",
    "    meanDistortions.append(sum(np.min(cdist(clust_data, model.cluster_centers_, 'euclidean'), axis=1)) / clust_data.shape[0])\n",
    "\n",
    "# plt.cla()\n",
    "plt.plot(clusters, meanDistortions, 'bx-')\n",
    "plt.xlabel('k')\n",
    "plt.ylabel('Average distortion')\n",
    "plt.title('Selecting k with the Elbow Method')\n"
   ]
  },
  {
   "cell_type": "markdown",
   "metadata": {},
   "source": [
    "Looking at the plot, we see that the knee happens at cluster = 3. This appears to be the ideal number of clusters. We will now perform the actual clustering for k=3. Then we will add the cluster ID to the original dataset."
   ]
  },
  {
   "cell_type": "code",
   "execution_count": 10,
   "metadata": {},
   "outputs": [
    {
     "name": "stdout",
     "output_type": "stream",
     "text": [
      "Groups Assigned : \n",
      "\n"
     ]
    },
    {
     "data": {
      "text/html": [
       "<div>\n",
       "<style scoped>\n",
       "    .dataframe tbody tr th:only-of-type {\n",
       "        vertical-align: middle;\n",
       "    }\n",
       "\n",
       "    .dataframe tbody tr th {\n",
       "        vertical-align: top;\n",
       "    }\n",
       "\n",
       "    .dataframe thead th {\n",
       "        text-align: right;\n",
       "    }\n",
       "</style>\n",
       "<table border=\"1\" class=\"dataframe\">\n",
       "  <thead>\n",
       "    <tr style=\"text-align: right;\">\n",
       "      <th></th>\n",
       "      <th>GROUP</th>\n",
       "      <th>PROBLEM_TYPE</th>\n",
       "    </tr>\n",
       "  </thead>\n",
       "  <tbody>\n",
       "    <tr>\n",
       "      <td>0</td>\n",
       "      <td>1</td>\n",
       "      <td>Admin Password Lost</td>\n",
       "    </tr>\n",
       "    <tr>\n",
       "      <td>1</td>\n",
       "      <td>1</td>\n",
       "      <td>Windows Reboots automatically</td>\n",
       "    </tr>\n",
       "    <tr>\n",
       "      <td>2</td>\n",
       "      <td>1</td>\n",
       "      <td>System not coming up after reboot</td>\n",
       "    </tr>\n",
       "    <tr>\n",
       "      <td>3</td>\n",
       "      <td>0</td>\n",
       "      <td>Slow system</td>\n",
       "    </tr>\n",
       "    <tr>\n",
       "      <td>4</td>\n",
       "      <td>2</td>\n",
       "      <td>Internet Connectivity loss</td>\n",
       "    </tr>\n",
       "    <tr>\n",
       "      <td>5</td>\n",
       "      <td>1</td>\n",
       "      <td>New Installation hangs</td>\n",
       "    </tr>\n",
       "    <tr>\n",
       "      <td>6</td>\n",
       "      <td>1</td>\n",
       "      <td>Intermittent Blank Screen</td>\n",
       "    </tr>\n",
       "    <tr>\n",
       "      <td>7</td>\n",
       "      <td>0</td>\n",
       "      <td>Too many popups in Browser</td>\n",
       "    </tr>\n",
       "    <tr>\n",
       "      <td>8</td>\n",
       "      <td>0</td>\n",
       "      <td>Cannot find printer</td>\n",
       "    </tr>\n",
       "    <tr>\n",
       "      <td>9</td>\n",
       "      <td>1</td>\n",
       "      <td>Missing peripheral driver</td>\n",
       "    </tr>\n",
       "    <tr>\n",
       "      <td>10</td>\n",
       "      <td>2</td>\n",
       "      <td>Cannot detect keyboard</td>\n",
       "    </tr>\n",
       "    <tr>\n",
       "      <td>11</td>\n",
       "      <td>2</td>\n",
       "      <td>Cannot detect mouse</td>\n",
       "    </tr>\n",
       "    <tr>\n",
       "      <td>12</td>\n",
       "      <td>2</td>\n",
       "      <td>Head phone jack not working</td>\n",
       "    </tr>\n",
       "    <tr>\n",
       "      <td>13</td>\n",
       "      <td>0</td>\n",
       "      <td>DVD read error</td>\n",
       "    </tr>\n",
       "    <tr>\n",
       "      <td>14</td>\n",
       "      <td>1</td>\n",
       "      <td>Cannot recover using restore</td>\n",
       "    </tr>\n",
       "    <tr>\n",
       "      <td>15</td>\n",
       "      <td>0</td>\n",
       "      <td>WIFI not functioning</td>\n",
       "    </tr>\n",
       "    <tr>\n",
       "      <td>16</td>\n",
       "      <td>1</td>\n",
       "      <td>Laptop not charging</td>\n",
       "    </tr>\n",
       "    <tr>\n",
       "      <td>17</td>\n",
       "      <td>1</td>\n",
       "      <td>Laptop loses charge very fast</td>\n",
       "    </tr>\n",
       "    <tr>\n",
       "      <td>18</td>\n",
       "      <td>1</td>\n",
       "      <td>Dark areas on screen</td>\n",
       "    </tr>\n",
       "    <tr>\n",
       "      <td>19</td>\n",
       "      <td>0</td>\n",
       "      <td>anti-virus not working</td>\n",
       "    </tr>\n",
       "  </tbody>\n",
       "</table>\n",
       "</div>"
      ],
      "text/plain": [
       "    GROUP                       PROBLEM_TYPE\n",
       "0       1                Admin Password Lost\n",
       "1       1      Windows Reboots automatically\n",
       "2       1  System not coming up after reboot\n",
       "3       0                        Slow system\n",
       "4       2         Internet Connectivity loss\n",
       "5       1             New Installation hangs\n",
       "6       1          Intermittent Blank Screen\n",
       "7       0         Too many popups in Browser\n",
       "8       0                Cannot find printer\n",
       "9       1          Missing peripheral driver\n",
       "10      2             Cannot detect keyboard\n",
       "11      2                Cannot detect mouse\n",
       "12      2        Head phone jack not working\n",
       "13      0                     DVD read error\n",
       "14      1       Cannot recover using restore\n",
       "15      0               WIFI not functioning\n",
       "16      1                Laptop not charging\n",
       "17      1      Laptop loses charge very fast\n",
       "18      1               Dark areas on screen\n",
       "19      0             anti-virus not working"
      ]
     },
     "execution_count": 10,
     "metadata": {},
     "output_type": "execute_result"
    }
   ],
   "source": [
    "# Instantiate & fit model w/3 clusters\n",
    "final_model = KMeans(3)\n",
    "final_model.fit(clust_data)\n",
    "\n",
    "# Make predictions\n",
    "prediction = final_model.predict(clust_data)\n",
    "\n",
    "# Join predicted clusters back to raw data\n",
    "raw_data[\"GROUP\"] = prediction\n",
    "print(\"Groups Assigned : \\n\")\n",
    "raw_data[[\"GROUP\",\"PROBLEM_TYPE\"]]"
   ]
  },
  {
   "cell_type": "markdown",
   "metadata": {},
   "source": [
    "## Analyze Groups\n",
    "\n",
    "We'll now visualize how each group differs for various feature attributes using a boxplot.\n",
    "\n",
    "Let's start with COUNT.\n",
    "\n",
    "### Count"
   ]
  },
  {
   "cell_type": "code",
   "execution_count": 24,
   "metadata": {},
   "outputs": [
    {
     "data": {
      "image/png": "[encoded data removed]",
      "text/plain": [
       "<Figure size 576x432 with 1 Axes>"
      ]
     },
     "metadata": {
      "needs_background": "light"
     },
     "output_type": "display_data"
    }
   ],
   "source": [
    "# Import seaborn\n",
    "import seaborn as sns\n",
    "\n",
    "# Plot boxplot for COUNT\n",
    "plt.figure(figsize=(8,6))\n",
    "ax = sns.boxplot(x=\"GROUP\", y=\"COUNT\", data=raw_data)"
   ]
  },
  {
   "cell_type": "markdown",
   "metadata": {
    "collapsed": true
   },
   "source": [
    "We can see that the count of incidents range differently for different groups.\n",
    "\n",
    "Next let's take a look at the average time it takes for a customer to resolve their problem. \n",
    "\n",
    "### Average Resolution Time"
   ]
  },
  {
   "cell_type": "code",
   "execution_count": 26,
   "metadata": {},
   "outputs": [
    {
     "data": {
      "image/png": "[encoded data removed]",
      "text/plain": [
       "<Figure size 576x432 with 1 Axes>"
      ]
     },
     "metadata": {
      "needs_background": "light"
     },
     "output_type": "display_data"
    }
   ],
   "source": [
    "# Plot boxplot for AVG_CALLS_TO_RESOLVE\n",
    "plt.figure(figsize=(8,6))\n",
    "ax = sns.boxplot(x=\"GROUP\", y=\"AVG_RESOLUTION_TIME\", data=raw_data)"
   ]
  },
  {
   "cell_type": "markdown",
   "metadata": {
    "collapsed": true
   },
   "source": [
    "We can see here that GROUP 2 has a very low average resolution time to resolve their problem. This suggests the problems they are calling to resolve are most likely simple and straight forward. \n",
    "\n",
    "A great way for the business to optimize the high-value time of its agents would be to provide a self-service path (product help, online help) for these easy-to-resolve issues. \n",
    "\n",
    "Now let's take a look at reoccurance rate to see which GROUP's problems are reoccurring."
   ]
  },
  {
   "cell_type": "code",
   "execution_count": 25,
   "metadata": {},
   "outputs": [
    {
     "data": {
      "image/png": "[encoded data removed]",
      "text/plain": [
       "<Figure size 576x432 with 1 Axes>"
      ]
     },
     "metadata": {
      "needs_background": "light"
     },
     "output_type": "display_data"
    }
   ],
   "source": [
    "# Plot boxplot for REOCCUR_RATE\n",
    "plt.figure(figsize=(8,6))\n",
    "ax = sns.boxplot(x=\"GROUP\", y=\"REOCCUR_RATE\", data=raw_data)"
   ]
  },
  {
   "cell_type": "markdown",
   "metadata": {},
   "source": [
    "GROUP 2 appears to have a relatively high reoccurance rate compared to the other groups. A great solution would be to analyze these problems and see how the product quality could be improved to prevent these from reoccurring."
   ]
  },
  {
   "cell_type": "code",
   "execution_count": 27,
   "metadata": {},
   "outputs": [
    {
     "data": {
      "image/png": "[encoded data removed]",
      "text/plain": [
       "<Figure size 576x432 with 1 Axes>"
      ]
     },
     "metadata": {
      "needs_background": "light"
     },
     "output_type": "display_data"
    }
   ],
   "source": [
    "# Plot boxplot for REPLACEMENT_RATE\n",
    "plt.figure(figsize=(8,6))\n",
    "ax = sns.boxplot(x=\"GROUP\", y=\"REPLACEMENT_RATE\", data=raw_data)"
   ]
  },
  {
   "cell_type": "markdown",
   "metadata": {},
   "source": [
    "We can see the replacement rates vary widely for Group 1, while group 0 & 2 are 0. There does not appear to be any stand out pattern for replacement rate between the groups. "
   ]
  }
 ],
 "metadata": {
  "anaconda-cloud": {},
  "kernelspec": {
   "display_name": "Python [conda env:learn-env] *",
   "language": "python",
   "name": "conda-env-learn-env-py"
  },
  "language_info": {
   "codemirror_mode": {
    "name": "ipython",
    "version": 3
   },
   "file_extension": ".py",
   "mimetype": "text/x-python",
   "name": "python",
   "nbconvert_exporter": "python",
   "pygments_lexer": "ipython3",
   "version": "3.6.9"
  },
  "toc": {
   "base_numbering": 1,
   "nav_menu": {},
   "number_sections": true,
   "sideBar": true,
   "skip_h1_title": false,
   "title_cell": "Table of Contents",
   "title_sidebar": "Contents",
   "toc_cell": true,
   "toc_position": {},
   "toc_section_display": true,
   "toc_window_display": false
  }
 },
 "nbformat": 4,
 "nbformat_minor": 1
}
